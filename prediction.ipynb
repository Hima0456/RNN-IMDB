{
 "cells": [
  {
   "cell_type": "code",
   "execution_count": 1,
   "id": "8ebbcb85",
   "metadata": {},
   "outputs": [],
   "source": [
    "import numpy as np\n",
    "import tensorflow as tf\n",
    "from tensorflow.keras.datasets import imdb\n",
    "from tensorflow.keras.preprocessing import sequence\n",
    "from tensorflow.keras.models import load_model"
   ]
  },
  {
   "cell_type": "code",
   "execution_count": 2,
   "id": "0c57f09c",
   "metadata": {},
   "outputs": [],
   "source": [
    "word_index=imdb.get_word_index()\n",
    "revesed_word_index={value: key for key, value in word_index.items()}"
   ]
  },
  {
   "cell_type": "code",
   "execution_count": 3,
   "id": "a1afaddd",
   "metadata": {},
   "outputs": [
    {
     "name": "stderr",
     "output_type": "stream",
     "text": [
      "WARNING:absl:Compiled the loaded model, but the compiled metrics have yet to be built. `model.compile_metrics` will be empty until you train or evaluate the model.\n"
     ]
    },
    {
     "data": {
      "text/html": [
       "<pre style=\"white-space:pre;overflow-x:auto;line-height:normal;font-family:Menlo,'DejaVu Sans Mono',consolas,'Courier New',monospace\"><span style=\"font-weight: bold\">Model: \"sequential\"</span>\n",
       "</pre>\n"
      ],
      "text/plain": [
       "\u001b[1mModel: \"sequential\"\u001b[0m\n"
      ]
     },
     "metadata": {},
     "output_type": "display_data"
    },
    {
     "data": {
      "text/html": [
       "<pre style=\"white-space:pre;overflow-x:auto;line-height:normal;font-family:Menlo,'DejaVu Sans Mono',consolas,'Courier New',monospace\">┏━━━━━━━━━━━━━━━━━━━━━━━━━━━━━━━━━┳━━━━━━━━━━━━━━━━━━━━━━━━┳━━━━━━━━━━━━━━━┓\n",
       "┃<span style=\"font-weight: bold\"> Layer (type)                    </span>┃<span style=\"font-weight: bold\"> Output Shape           </span>┃<span style=\"font-weight: bold\">       Param # </span>┃\n",
       "┡━━━━━━━━━━━━━━━━━━━━━━━━━━━━━━━━━╇━━━━━━━━━━━━━━━━━━━━━━━━╇━━━━━━━━━━━━━━━┩\n",
       "│ embedding (<span style=\"color: #0087ff; text-decoration-color: #0087ff\">Embedding</span>)           │ (<span style=\"color: #00af00; text-decoration-color: #00af00\">32</span>, <span style=\"color: #00af00; text-decoration-color: #00af00\">450</span>, <span style=\"color: #00af00; text-decoration-color: #00af00\">150</span>)         │     <span style=\"color: #00af00; text-decoration-color: #00af00\">1,500,000</span> │\n",
       "├─────────────────────────────────┼────────────────────────┼───────────────┤\n",
       "│ simple_rnn (<span style=\"color: #0087ff; text-decoration-color: #0087ff\">SimpleRNN</span>)          │ (<span style=\"color: #00af00; text-decoration-color: #00af00\">32</span>, <span style=\"color: #00af00; text-decoration-color: #00af00\">150</span>)              │        <span style=\"color: #00af00; text-decoration-color: #00af00\">45,150</span> │\n",
       "├─────────────────────────────────┼────────────────────────┼───────────────┤\n",
       "│ dense (<span style=\"color: #0087ff; text-decoration-color: #0087ff\">Dense</span>)                   │ (<span style=\"color: #00af00; text-decoration-color: #00af00\">32</span>, <span style=\"color: #00af00; text-decoration-color: #00af00\">1</span>)                │           <span style=\"color: #00af00; text-decoration-color: #00af00\">151</span> │\n",
       "└─────────────────────────────────┴────────────────────────┴───────────────┘\n",
       "</pre>\n"
      ],
      "text/plain": [
       "┏━━━━━━━━━━━━━━━━━━━━━━━━━━━━━━━━━┳━━━━━━━━━━━━━━━━━━━━━━━━┳━━━━━━━━━━━━━━━┓\n",
       "┃\u001b[1m \u001b[0m\u001b[1mLayer (type)                   \u001b[0m\u001b[1m \u001b[0m┃\u001b[1m \u001b[0m\u001b[1mOutput Shape          \u001b[0m\u001b[1m \u001b[0m┃\u001b[1m \u001b[0m\u001b[1m      Param #\u001b[0m\u001b[1m \u001b[0m┃\n",
       "┡━━━━━━━━━━━━━━━━━━━━━━━━━━━━━━━━━╇━━━━━━━━━━━━━━━━━━━━━━━━╇━━━━━━━━━━━━━━━┩\n",
       "│ embedding (\u001b[38;5;33mEmbedding\u001b[0m)           │ (\u001b[38;5;34m32\u001b[0m, \u001b[38;5;34m450\u001b[0m, \u001b[38;5;34m150\u001b[0m)         │     \u001b[38;5;34m1,500,000\u001b[0m │\n",
       "├─────────────────────────────────┼────────────────────────┼───────────────┤\n",
       "│ simple_rnn (\u001b[38;5;33mSimpleRNN\u001b[0m)          │ (\u001b[38;5;34m32\u001b[0m, \u001b[38;5;34m150\u001b[0m)              │        \u001b[38;5;34m45,150\u001b[0m │\n",
       "├─────────────────────────────────┼────────────────────────┼───────────────┤\n",
       "│ dense (\u001b[38;5;33mDense\u001b[0m)                   │ (\u001b[38;5;34m32\u001b[0m, \u001b[38;5;34m1\u001b[0m)                │           \u001b[38;5;34m151\u001b[0m │\n",
       "└─────────────────────────────────┴────────────────────────┴───────────────┘\n"
      ]
     },
     "metadata": {},
     "output_type": "display_data"
    },
    {
     "data": {
      "text/html": [
       "<pre style=\"white-space:pre;overflow-x:auto;line-height:normal;font-family:Menlo,'DejaVu Sans Mono',consolas,'Courier New',monospace\"><span style=\"font-weight: bold\"> Total params: </span><span style=\"color: #00af00; text-decoration-color: #00af00\">1,545,303</span> (5.89 MB)\n",
       "</pre>\n"
      ],
      "text/plain": [
       "\u001b[1m Total params: \u001b[0m\u001b[38;5;34m1,545,303\u001b[0m (5.89 MB)\n"
      ]
     },
     "metadata": {},
     "output_type": "display_data"
    },
    {
     "data": {
      "text/html": [
       "<pre style=\"white-space:pre;overflow-x:auto;line-height:normal;font-family:Menlo,'DejaVu Sans Mono',consolas,'Courier New',monospace\"><span style=\"font-weight: bold\"> Trainable params: </span><span style=\"color: #00af00; text-decoration-color: #00af00\">1,545,301</span> (5.89 MB)\n",
       "</pre>\n"
      ],
      "text/plain": [
       "\u001b[1m Trainable params: \u001b[0m\u001b[38;5;34m1,545,301\u001b[0m (5.89 MB)\n"
      ]
     },
     "metadata": {},
     "output_type": "display_data"
    },
    {
     "data": {
      "text/html": [
       "<pre style=\"white-space:pre;overflow-x:auto;line-height:normal;font-family:Menlo,'DejaVu Sans Mono',consolas,'Courier New',monospace\"><span style=\"font-weight: bold\"> Non-trainable params: </span><span style=\"color: #00af00; text-decoration-color: #00af00\">0</span> (0.00 B)\n",
       "</pre>\n"
      ],
      "text/plain": [
       "\u001b[1m Non-trainable params: \u001b[0m\u001b[38;5;34m0\u001b[0m (0.00 B)\n"
      ]
     },
     "metadata": {},
     "output_type": "display_data"
    },
    {
     "data": {
      "text/html": [
       "<pre style=\"white-space:pre;overflow-x:auto;line-height:normal;font-family:Menlo,'DejaVu Sans Mono',consolas,'Courier New',monospace\"><span style=\"font-weight: bold\"> Optimizer params: </span><span style=\"color: #00af00; text-decoration-color: #00af00\">2</span> (12.00 B)\n",
       "</pre>\n"
      ],
      "text/plain": [
       "\u001b[1m Optimizer params: \u001b[0m\u001b[38;5;34m2\u001b[0m (12.00 B)\n"
      ]
     },
     "metadata": {},
     "output_type": "display_data"
    }
   ],
   "source": [
    "model=load_model('simplernn_imdb.h5')\n",
    "model.summary()"
   ]
  },
  {
   "cell_type": "code",
   "execution_count": 4,
   "id": "fd9f6a02",
   "metadata": {},
   "outputs": [
    {
     "data": {
      "text/plain": [
       "[array([[-0.20692122, -0.30053395, -0.28811842, ..., -0.2668848 ,\n",
       "         -0.33617783,  0.23018466],\n",
       "        [-0.02063307, -0.0253611 ,  0.03491328, ..., -0.07401896,\n",
       "         -0.07253937, -0.01914066],\n",
       "        [-0.09993575, -0.12829877, -0.03315512, ..., -0.04212155,\n",
       "         -0.04017908,  0.026614  ],\n",
       "        ...,\n",
       "        [-0.10205881,  0.06706781, -0.01341061, ..., -0.03000917,\n",
       "         -0.17550017, -0.10568132],\n",
       "        [ 0.12631792, -0.18536763,  0.16637494, ..., -0.14357018,\n",
       "          0.09924301,  0.1478742 ],\n",
       "        [-0.0040124 ,  0.00885243,  0.03457309, ..., -0.04148287,\n",
       "          0.00186596, -0.10995529]], shape=(10000, 150), dtype=float32),\n",
       " array([[-0.04860362,  0.04954568,  0.12446585, ..., -0.04469723,\n",
       "          0.06196379, -0.04041712],\n",
       "        [-0.09269975,  0.11527644,  0.15181495, ...,  0.10300276,\n",
       "          0.10846682,  0.1057116 ],\n",
       "        [ 0.0898155 ,  0.13883117, -0.07789059, ..., -0.02325596,\n",
       "         -0.10697178,  0.07191225],\n",
       "        ...,\n",
       "        [ 0.11127371,  0.0032083 ,  0.11720917, ...,  0.0678119 ,\n",
       "         -0.1304864 ,  0.05096627],\n",
       "        [ 0.07508078,  0.08574772, -0.09477454, ..., -0.11953256,\n",
       "         -0.02075897,  0.01386555],\n",
       "        [-0.08573777, -0.05121353, -0.05886349, ..., -0.13945787,\n",
       "         -0.00631286, -0.11806084]], shape=(150, 150), dtype=float32),\n",
       " array([[-0.17232549,  0.0616378 ,  0.03799724, ..., -0.0983273 ,\n",
       "          0.05051259,  0.05168951],\n",
       "        [-0.00353037,  0.01848789, -0.00263093, ..., -0.06430434,\n",
       "          0.14909792,  0.05930935],\n",
       "        [-0.02131205, -0.02731365, -0.10671607, ..., -0.202881  ,\n",
       "         -0.04610992, -0.09204163],\n",
       "        ...,\n",
       "        [-0.01078406,  0.04490438, -0.00502932, ...,  0.02453279,\n",
       "         -0.07783133, -0.2305667 ],\n",
       "        [ 0.160714  , -0.07476081,  0.14930998, ...,  0.07053914,\n",
       "          0.23756903,  0.00945157],\n",
       "        [-0.15156624,  0.10385448,  0.09733395, ...,  0.07937014,\n",
       "         -0.07836911, -0.02711446]], shape=(150, 150), dtype=float32),\n",
       " array([-0.00422046, -0.03997998,  0.0063593 , -0.01823275, -0.00546366,\n",
       "         0.00402984, -0.03088748,  0.03606223,  0.01280529, -0.00990192,\n",
       "         0.01216151, -0.03572274,  0.03055524, -0.04104664, -0.01322739,\n",
       "         0.00360553,  0.00179743,  0.00170982,  0.04208747, -0.0047695 ,\n",
       "        -0.04295506, -0.05011705, -0.00715163,  0.03928071, -0.01989875,\n",
       "        -0.0398895 , -0.0494546 ,  0.06848018,  0.04501068,  0.04736112,\n",
       "         0.02767274, -0.05734313, -0.01983271, -0.02407454, -0.04186421,\n",
       "         0.03540765, -0.02844229, -0.01357064, -0.01389027,  0.03108437,\n",
       "         0.01695856, -0.04571502, -0.04573225,  0.03815453, -0.00421236,\n",
       "        -0.04176445, -0.02317812,  0.02184636,  0.01096786, -0.03232004,\n",
       "         0.00727133,  0.00753904, -0.01363476,  0.02701668,  0.00800623,\n",
       "         0.03871875,  0.01495192, -0.0403201 ,  0.00623676, -0.04661189,\n",
       "         0.00157733,  0.00106035,  0.00749019, -0.0324236 ,  0.00375793,\n",
       "        -0.02419438, -0.02389731,  0.00971627, -0.03099132, -0.02123769,\n",
       "        -0.02347368,  0.05361959,  0.01082951, -0.03730571, -0.01809924,\n",
       "        -0.04694474,  0.02321072, -0.05431433,  0.05571653, -0.02830002,\n",
       "         0.05868653, -0.01930112, -0.05013719, -0.01059816, -0.01485846,\n",
       "         0.04534674,  0.01605721, -0.04741561, -0.03219736,  0.03793487,\n",
       "        -0.00687902,  0.0112759 , -0.01192856, -0.05607374,  0.05584515,\n",
       "         0.04992963, -0.00232129,  0.05500548,  0.01376221, -0.02382388,\n",
       "        -0.01348048, -0.03273034,  0.01931104, -0.02638074, -0.01231269,\n",
       "        -0.00699846, -0.00248543,  0.0008746 ,  0.07401367, -0.02766251,\n",
       "         0.02825556, -0.03325373, -0.046756  , -0.01170311, -0.01430279,\n",
       "        -0.04900578,  0.01192408,  0.05880338, -0.03226607, -0.00263614,\n",
       "        -0.05022189,  0.00632978, -0.04202306,  0.05971409,  0.02306131,\n",
       "         0.03101905, -0.04766105, -0.0268599 , -0.00932073,  0.01342132,\n",
       "         0.06341983, -0.02650799,  0.03624116, -0.02828862,  0.01914523,\n",
       "        -0.02733407, -0.04229594, -0.00143929, -0.00290608, -0.00467464,\n",
       "         0.00591351,  0.02306065,  0.02557634, -0.018274  ,  0.04442238,\n",
       "         0.04880502, -0.06295904,  0.02014134,  0.01619008,  0.01616259],\n",
       "       dtype=float32),\n",
       " array([[-0.00999459],\n",
       "        [-0.03729429],\n",
       "        [ 0.32377797],\n",
       "        [ 0.03085537],\n",
       "        [ 0.00280998],\n",
       "        [ 0.01273908],\n",
       "        [-0.06728349],\n",
       "        [ 0.19594795],\n",
       "        [-0.19533916],\n",
       "        [-0.19287169],\n",
       "        [ 0.20201436],\n",
       "        [-0.2989291 ],\n",
       "        [ 0.14317858],\n",
       "        [ 0.16139886],\n",
       "        [ 0.103162  ],\n",
       "        [-0.13858965],\n",
       "        [ 0.01275518],\n",
       "        [ 0.15183009],\n",
       "        [-0.03760492],\n",
       "        [ 0.08607097],\n",
       "        [ 0.01903442],\n",
       "        [ 0.11678284],\n",
       "        [ 0.13886794],\n",
       "        [-0.03415409],\n",
       "        [-0.10323953],\n",
       "        [-0.03231464],\n",
       "        [-0.03296994],\n",
       "        [-0.07604883],\n",
       "        [-0.14605449],\n",
       "        [-0.13410392],\n",
       "        [ 0.19485432],\n",
       "        [-0.2021267 ],\n",
       "        [ 0.07235999],\n",
       "        [-0.21040817],\n",
       "        [-0.07564984],\n",
       "        [-0.11845991],\n",
       "        [-0.09493962],\n",
       "        [ 0.11762203],\n",
       "        [-0.00376402],\n",
       "        [-0.22699097],\n",
       "        [-0.08898108],\n",
       "        [ 0.13742064],\n",
       "        [-0.07809483],\n",
       "        [ 0.14888248],\n",
       "        [ 0.09895428],\n",
       "        [-1.0379192 ],\n",
       "        [ 0.06476654],\n",
       "        [-0.524697  ],\n",
       "        [-0.17202152],\n",
       "        [ 0.11578777],\n",
       "        [ 0.16359545],\n",
       "        [-0.24985024],\n",
       "        [ 0.14210923],\n",
       "        [ 0.04812569],\n",
       "        [ 0.0576541 ],\n",
       "        [ 0.05761857],\n",
       "        [ 0.16659984],\n",
       "        [-0.05510969],\n",
       "        [ 0.27981567],\n",
       "        [ 0.10401889],\n",
       "        [ 0.17007771],\n",
       "        [ 0.00851612],\n",
       "        [-0.06730511],\n",
       "        [ 0.5851905 ],\n",
       "        [-0.05687543],\n",
       "        [-0.03471498],\n",
       "        [ 0.08562976],\n",
       "        [ 0.1907691 ],\n",
       "        [ 0.09460776],\n",
       "        [-0.13534728],\n",
       "        [ 0.46003053],\n",
       "        [ 0.07040416],\n",
       "        [ 0.1757498 ],\n",
       "        [ 0.11129121],\n",
       "        [-0.08987078],\n",
       "        [ 0.10670172],\n",
       "        [ 0.16965787],\n",
       "        [ 0.17593127],\n",
       "        [ 0.30673966],\n",
       "        [-0.03541456],\n",
       "        [-0.05752528],\n",
       "        [ 0.04200461],\n",
       "        [ 0.06522158],\n",
       "        [ 0.04087938],\n",
       "        [-0.22327296],\n",
       "        [ 0.10851996],\n",
       "        [-0.02783277],\n",
       "        [-0.06036285],\n",
       "        [ 0.16812606],\n",
       "        [-0.03371204],\n",
       "        [-0.0959315 ],\n",
       "        [ 0.16881885],\n",
       "        [ 0.02091357],\n",
       "        [ 0.12581876],\n",
       "        [-0.03580414],\n",
       "        [ 0.03353895],\n",
       "        [-0.2990825 ],\n",
       "        [-0.00836637],\n",
       "        [-0.13151741],\n",
       "        [ 0.12748572],\n",
       "        [ 0.04474744],\n",
       "        [-0.03400983],\n",
       "        [ 0.08979256],\n",
       "        [-0.03063471],\n",
       "        [ 0.1443841 ],\n",
       "        [ 0.12080584],\n",
       "        [ 0.05934438],\n",
       "        [ 0.19334094],\n",
       "        [-0.24666575],\n",
       "        [ 0.03325882],\n",
       "        [-0.24959415],\n",
       "        [ 0.17498888],\n",
       "        [-0.0710289 ],\n",
       "        [ 0.05444596],\n",
       "        [ 0.02213483],\n",
       "        [ 0.11900006],\n",
       "        [-0.04221792],\n",
       "        [-0.05900365],\n",
       "        [-0.04346077],\n",
       "        [-0.09830833],\n",
       "        [ 0.16852978],\n",
       "        [ 0.04188936],\n",
       "        [ 0.07374477],\n",
       "        [-0.04291862],\n",
       "        [-0.12017504],\n",
       "        [-0.21510758],\n",
       "        [-0.10193979],\n",
       "        [-0.06016725],\n",
       "        [ 0.07206733],\n",
       "        [-0.09008523],\n",
       "        [ 0.05191439],\n",
       "        [ 0.02449415],\n",
       "        [ 0.06195742],\n",
       "        [ 0.17839934],\n",
       "        [ 0.00976236],\n",
       "        [ 0.15591368],\n",
       "        [ 0.03673642],\n",
       "        [-0.05643179],\n",
       "        [ 0.62416804],\n",
       "        [ 1.3133751 ],\n",
       "        [ 0.06528745],\n",
       "        [ 0.00418619],\n",
       "        [-0.05065557],\n",
       "        [ 0.04335208],\n",
       "        [ 0.01820136],\n",
       "        [-0.05697018],\n",
       "        [ 0.05087914],\n",
       "        [ 0.11536226],\n",
       "        [-0.02044256],\n",
       "        [-0.17157939]], dtype=float32),\n",
       " array([2.1404984], dtype=float32)]"
      ]
     },
     "execution_count": 4,
     "metadata": {},
     "output_type": "execute_result"
    }
   ],
   "source": [
    "model.get_weights()"
   ]
  },
  {
   "cell_type": "code",
   "execution_count": 5,
   "id": "31294be4",
   "metadata": {},
   "outputs": [],
   "source": [
    "def decode_review(encoded_review):\n",
    "    return ' '.join([revesed_word_index(i-3,'?') for i in encoded_review])\n",
    "\n",
    "def preprocess_text(text):\n",
    "    words=text.lower().split()\n",
    "    encoded_review=[word_index.get(word,2)+3 for word in words]\n",
    "    padded_review=sequence.pad_sequences([encoded_review],maxlen=500)\n",
    "\n",
    "    return padded_review"
   ]
  },
  {
   "cell_type": "code",
   "execution_count": 6,
   "id": "cfd827e3",
   "metadata": {},
   "outputs": [],
   "source": [
    "def predict_sentiment(review):\n",
    "    preprocessed_input=preprocess_text(review)\n",
    "    prediction=model.predict(preprocessed_input)\n",
    "\n",
    "    sentiment='Positive' if prediction[0][0] >0.5 else 'Negative'\n",
    "\n",
    "    return sentiment,prediction[0][0]\n"
   ]
  },
  {
   "cell_type": "code",
   "execution_count": null,
   "id": "01d8a23d",
   "metadata": {},
   "outputs": [],
   "source": []
  },
  {
   "cell_type": "code",
   "execution_count": null,
   "id": "b52e04f0",
   "metadata": {},
   "outputs": [],
   "source": []
  },
  {
   "cell_type": "code",
   "execution_count": null,
   "id": "f41ca344",
   "metadata": {},
   "outputs": [],
   "source": []
  }
 ],
 "metadata": {
  "kernelspec": {
   "display_name": "Python 3",
   "language": "python",
   "name": "python3"
  },
  "language_info": {
   "codemirror_mode": {
    "name": "ipython",
    "version": 3
   },
   "file_extension": ".py",
   "mimetype": "text/x-python",
   "name": "python",
   "nbconvert_exporter": "python",
   "pygments_lexer": "ipython3",
   "version": "3.11.11"
  }
 },
 "nbformat": 4,
 "nbformat_minor": 5
}
